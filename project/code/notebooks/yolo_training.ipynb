{
 "cells": [
  {
   "cell_type": "code",
   "execution_count": null,
   "metadata": {
    "vscode": {
     "languageId": "plaintext"
    }
   },
   "outputs": [],
   "source": [
    "from clearml import Task\n",
    "\n",
    "from ultralytics import YOLO\n",
    "import os\n",
    "import torch\n",
    "\n",
    "\n",
    "# Step 1: Creating a ClearML Task\n",
    "task = Task.init(project_name=\"my_project\", task_name=\"yolo11n_test\")\n",
    "\n",
    "# Step 2: Selecting the YOLO11 Model\n",
    "model_variant = \"yolo11n\"\n",
    "task.set_parameter(\"model_variant\", model_variant)\n",
    "\n",
    "# Step 3: Loading the YOLO11 Model\n",
    "model = YOLO(f\"{model_variant}.pt\")\n",
    "\n",
    "device = torch.device(\"cuda:0\" if torch.cuda.is_available() else \"cpu\")\n",
    "model.to(device)\n",
    "\n",
    "# Step 4: Setting Up Training Arguments\n",
    "path_to_detection_yaml = os.path.join(os.getcwd(), 'project', 'data', 'detection', 'detection_set.yaml')\n",
    "args = dict(\n",
    "    data=path_to_detection_yaml, \n",
    "    epochs=20, \n",
    "    batch=8)\n",
    "task.connect(args)\n",
    "\n",
    "# Step 5: Initiating Model Training\n",
    "results = model.train(**args)\n",
    "\n",
    "print(results)\n",
    "\n",
    "# model.eval()\n",
    "model.val(data=path_to_detection_yaml, save_json=True)"
   ]
  }
 ],
 "metadata": {
  "language_info": {
   "name": "python"
  }
 },
 "nbformat": 4,
 "nbformat_minor": 2
}
